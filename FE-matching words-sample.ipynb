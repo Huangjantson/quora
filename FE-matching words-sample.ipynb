{
 "cells": [
  {
   "cell_type": "code",
   "execution_count": 1,
   "metadata": {
    "collapsed": true
   },
   "outputs": [],
   "source": [
    "import pandas as pd\n",
    "import numpy as np\n",
    "\n",
    "import pyspark as ps\n",
    "from pyspark.sql.types import StringType\n",
    "from pyspark.sql.functions import udf\n",
    "\n",
    "import nltk\n",
    "\n",
    "seed = 2333\n",
    "np.random.seed(seed)\n",
    "data_path = '/home/raku/kaggleData/quora/'\n"
   ]
  },
  {
   "cell_type": "code",
   "execution_count": 30,
   "metadata": {
    "collapsed": false
   },
   "outputs": [
    {
     "name": "stdout",
     "output_type": "stream",
     "text": [
      "Index([u'id', u'question_1_stemmed', u'question_2_stemmed'], dtype='object')\n"
     ]
    }
   ],
   "source": [
    "#sample = pd.read_csv(data_path+\"sample.csv\")\n",
    "stemmed_sample = pd.read_pickle(data_path+'sample_stemmed_questions.pkl')\n",
    "#processed_sample = sample.merge(stemmed_sample)\n",
    "sample = stemmed_sample\n",
    "print sample.columns"
   ]
  },
  {
   "cell_type": "code",
   "execution_count": 17,
   "metadata": {
    "collapsed": false
   },
   "outputs": [],
   "source": [
    "#function for sharing\n",
    "def word_match_share(text_a,text_b):\n",
    "    a = set(text_a.split())\n",
    "    b = set(text_b.split())\n",
    "    if len(a) == 0 or len(b) == 0:return 0\n",
    "    return len(a.intersection(b)) *1.0 / (len(a)+len(b))\n",
    "\n",
    "word_match_share_udf = udf(word_match_share)\n",
    "\n",
    "#function for filtering stop-words\n",
    "from nltk.corpus import stopwords\n",
    "stops = set(stopwords.words(\"english\"))\n",
    "\n",
    "def filter_stop_words(text):\n",
    "    return \" \".join([i for i in text.split() if i not in stops])\n",
    "\n",
    "filter_stop_words_udf = udf(filter_stop_words)\n",
    "\n",
    "len_udf = udf(len)\n",
    "\n",
    "def word_length(text):\n",
    "    word_list = text.split()\n",
    "    return len(word_list)\n",
    "\n",
    "word_length_udf = udf(word_length)"
   ]
  },
  {
   "cell_type": "code",
   "execution_count": null,
   "metadata": {
    "collapsed": false
   },
   "outputs": [],
   "source": [
    "#conf = ps.SparkConf().setAppName('jupyter_backend').setMaster('local[7]')\n",
    "#sc = ps.SparkContext(conf=conf)\n",
    "#sqlContext = ps.sql.SQLContext(sc)"
   ]
  },
  {
   "cell_type": "code",
   "execution_count": 31,
   "metadata": {
    "collapsed": false
   },
   "outputs": [],
   "source": [
    "sample_sp = sqlContext.createDataFrame(sample)\n",
    "sample_sp=sample_sp.withColumn('raw_sharing',word_match_share_udf(sample_sp[u'question_1_stemmed'],sample_sp[u'question_2_stemmed']))\n",
    "#filter stop words and get the filtered_sharing\n",
    "sample_sp=sample_sp.withColumn('filtered_q1',filter_stop_words_udf(sample_sp['question_1_stemmed']))\n",
    "sample_sp=sample_sp.withColumn('filtered_q2',filter_stop_words_udf(sample_sp['question_2_stemmed']))\n",
    "sample_sp=sample_sp.withColumn('filtered_sharing',word_match_share_udf(sample_sp[u'filtered_q1'],sample_sp[u'filtered_q2']))"
   ]
  },
  {
   "cell_type": "code",
   "execution_count": 49,
   "metadata": {
    "collapsed": true
   },
   "outputs": [],
   "source": [
    "sample_sp=sample_sp.withColumn('word_length_q1',word_length_udf(sample_sp['question_1_stemmed']))\n",
    "sample_sp=sample_sp.withColumn('word_length_q2',word_length_udf(sample_sp['question_2_stemmed']))"
   ]
  },
  {
   "cell_type": "code",
   "execution_count": 46,
   "metadata": {
    "collapsed": true
   },
   "outputs": [],
   "source": [
    "sample_sp=sample_sp.withColumn('char_length_q1',len_udf(sample_sp['question_1_stemmed']))\n",
    "sample_sp=sample_sp.withColumn('char_length_q2',len_udf(sample_sp['question_2_stemmed']))"
   ]
  },
  {
   "cell_type": "code",
   "execution_count": 50,
   "metadata": {
    "collapsed": false
   },
   "outputs": [],
   "source": [
    "sample_sp=sample_sp.withColumn('word_len_diff',sample_sp['word_length_q1']-sample_sp['word_length_q2'])\n",
    "sample_sp=sample_sp.withColumn('word_len_rate',sample_sp['word_length_q1']*1.0/sample_sp['word_length_q2'])\n",
    "sample_sp=sample_sp.withColumn('word_len_diff_normal',\n",
    "                               (sample_sp['word_length_q1']-sample_sp['word_length_q2'])*1.0/(sample_sp['word_length_q1']+sample_sp['word_length_q2']))\n",
    "sample_sp=sample_sp.withColumn('word_len_diff_normal',ps.sql.functions.abs(sample_sp['word_len_diff_normal']))\n",
    "sample_sp=sample_sp.withColumn('word_len_diff',ps.sql.functions.abs(sample_sp['word_len_diff']))\n",
    "sample_sp=sample_sp.withColumn('word_len_sum',sample_sp['word_length_q1']+sample_sp['word_length_q2'])"
   ]
  },
  {
   "cell_type": "code",
   "execution_count": 67,
   "metadata": {
    "collapsed": true
   },
   "outputs": [],
   "source": [
    "sample_sp=sample_sp.withColumn('char_len_diff',sample_sp['char_length_q1']-sample_sp['char_length_q2'])\n",
    "sample_sp=sample_sp.withColumn('char_len_rate',sample_sp['char_length_q1']*1.0/sample_sp['char_length_q2'])\n",
    "sample_sp=sample_sp.withColumn('char_len_diff_normal',\n",
    "                               (sample_sp['char_length_q1']-sample_sp['char_length_q2'])*1.0/(sample_sp['char_length_q1']+sample_sp['char_length_q2']))\n",
    "sample_sp=sample_sp.withColumn('char_len_diff_normal',ps.sql.functions.abs(sample_sp['char_len_diff_normal']))\n",
    "sample_sp=sample_sp.withColumn('char_len_diff',ps.sql.functions.abs(sample_sp['char_len_diff']))\n",
    "sample_sp=sample_sp.withColumn('char_len_sum',sample_sp['char_length_q1']+sample_sp['char_length_q2'])"
   ]
  },
  {
   "cell_type": "code",
   "execution_count": 71,
   "metadata": {
    "collapsed": false,
    "scrolled": true
   },
   "outputs": [],
   "source": [
    "filtered_fields=['filtered_q1','filtered_q2']\n",
    "sharing = ['raw_sharing','filtered_sharing']\n",
    "word_lengths = ['word_length_q1','word_length_q2','word_len_diff','word_len_rate','word_len_diff_normal','word_len_sum']\n",
    "char_lengths = ['char_length_q1','char_length_q2','char_len_diff','char_len_rate','char_len_diff_normal','char_len_sum']"
   ]
  },
  {
   "cell_type": "code",
   "execution_count": 72,
   "metadata": {
    "collapsed": false
   },
   "outputs": [],
   "source": [
    "sample_res = sample_sp[filtered_fields+sharing+word_lengths+char_lengths].toPandas()"
   ]
  },
  {
   "cell_type": "code",
   "execution_count": 75,
   "metadata": {
    "collapsed": false
   },
   "outputs": [],
   "source": [
    "sample_res[filtered_fields].to_pickle(data_path+'sample_filtered.pkl')\n",
    "sample_res[sharing].to_pickle(data_path+'sample_sharing.pkl')\n",
    "sample_res[word_lengths].to_pickle(data_path+'sample_word_length.pkl')\n",
    "sample_res[char_lengths].to_pickle(data_path+'sample_char_lengths.pkl')\n"
   ]
  },
  {
   "cell_type": "code",
   "execution_count": null,
   "metadata": {
    "collapsed": true
   },
   "outputs": [],
   "source": [
    "print 1 !="
   ]
  }
 ],
 "metadata": {
  "kernelspec": {
   "display_name": "Python 2",
   "language": "python",
   "name": "python2"
  },
  "language_info": {
   "codemirror_mode": {
    "name": "ipython",
    "version": 2
   },
   "file_extension": ".py",
   "mimetype": "text/x-python",
   "name": "python",
   "nbconvert_exporter": "python",
   "pygments_lexer": "ipython2",
   "version": "2.7.13"
  }
 },
 "nbformat": 4,
 "nbformat_minor": 2
}
